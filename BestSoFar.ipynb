{
 "cells": [
  {
   "cell_type": "code",
   "execution_count": 1,
   "id": "287368d1",
   "metadata": {
    "_cell_guid": "b1076dfc-b9ad-4769-8c92-a6c4dae69d19",
    "_uuid": "8f2839f25d086af736a60e9eeb907d3b93b6e0e5",
    "collapsed": true,
    "execution": {
     "iopub.execute_input": "2023-04-02T23:37:21.193326Z",
     "iopub.status.busy": "2023-04-02T23:37:21.192196Z",
     "iopub.status.idle": "2023-04-02T23:37:47.471464Z",
     "shell.execute_reply": "2023-04-02T23:37:47.470044Z"
    },
    "jupyter": {
     "outputs_hidden": true
    },
    "papermill": {
     "duration": 26.291382,
     "end_time": "2023-04-02T23:37:47.474602",
     "exception": false,
     "start_time": "2023-04-02T23:37:21.183220",
     "status": "completed"
    },
    "tags": []
   },
   "outputs": [
    {
     "name": "stdout",
     "output_type": "stream",
     "text": [
      "Collecting lightning\r\n",
      "  Downloading lightning-1.9.4-py3-none-any.whl (2.1 MB)\r\n",
      "\u001b[2K     \u001b[90m━━━━━━━━━━━━━━━━━━━━━━━━━━━━━━━━━━━━━━━━\u001b[0m \u001b[32m2.1/2.1 MB\u001b[0m \u001b[31m45.7 MB/s\u001b[0m eta \u001b[36m0:00:00\u001b[0m\r\n",
      "\u001b[?25hCollecting lightning-cloud>=0.5.27\r\n",
      "  Downloading lightning_cloud-0.5.32-py3-none-any.whl (545 kB)\r\n",
      "\u001b[2K     \u001b[90m━━━━━━━━━━━━━━━━━━━━━━━━━━━━━━━━━━━━━━\u001b[0m \u001b[32m546.0/546.0 kB\u001b[0m \u001b[31m39.3 MB/s\u001b[0m eta \u001b[36m0:00:00\u001b[0m\r\n",
      "\u001b[?25hRequirement already satisfied: torch<3.0,>=1.10.0 in /opt/conda/lib/python3.7/site-packages (from lightning) (1.13.0)\r\n",
      "Requirement already satisfied: PyYAML<8.0 in /opt/conda/lib/python3.7/site-packages (from lightning) (6.0)\r\n",
      "Requirement already satisfied: traitlets<7.0,>=5.3.0 in /opt/conda/lib/python3.7/site-packages (from lightning) (5.8.1)\r\n",
      "Collecting inquirer<5.0,>=2.10.0\r\n",
      "  Downloading inquirer-2.10.1-py3-none-any.whl (17 kB)\r\n",
      "Collecting fastapi<0.89.0\r\n",
      "  Downloading fastapi-0.88.0-py3-none-any.whl (55 kB)\r\n",
      "\u001b[2K     \u001b[90m━━━━━━━━━━━━━━━━━━━━━━━━━━━━━━━━━━━━━━━━\u001b[0m \u001b[32m55.5/55.5 kB\u001b[0m \u001b[31m5.8 MB/s\u001b[0m eta \u001b[36m0:00:00\u001b[0m\r\n",
      "\u001b[?25hRequirement already satisfied: fsspec<2024.0,>=2022.5.0 in /opt/conda/lib/python3.7/site-packages (from lightning) (2023.1.0)\r\n",
      "Requirement already satisfied: packaging in /opt/conda/lib/python3.7/site-packages (from lightning) (23.0)\r\n",
      "Requirement already satisfied: websocket-client<3.0 in /opt/conda/lib/python3.7/site-packages (from lightning) (1.4.2)\r\n",
      "Collecting croniter<1.4.0,>=1.3.0\r\n",
      "  Downloading croniter-1.3.8-py2.py3-none-any.whl (18 kB)\r\n",
      "Requirement already satisfied: arrow<3.0,>=1.2.0 in /opt/conda/lib/python3.7/site-packages (from lightning) (1.2.3)\r\n",
      "Requirement already satisfied: rich<15.0 in /opt/conda/lib/python3.7/site-packages (from lightning) (13.2.0)\r\n",
      "Collecting starsessions<2.0,>=1.2.1\r\n",
      "  Downloading starsessions-1.3.0-py3-none-any.whl (10 kB)\r\n",
      "Requirement already satisfied: uvicorn<2.0 in /opt/conda/lib/python3.7/site-packages (from lightning) (0.20.0)\r\n",
      "Requirement already satisfied: numpy<3.0,>=1.17.2 in /opt/conda/lib/python3.7/site-packages (from lightning) (1.21.6)\r\n",
      "Requirement already satisfied: starlette<2.0 in /opt/conda/lib/python3.7/site-packages (from lightning) (0.22.0)\r\n",
      "Collecting dateutils<2.0\r\n",
      "  Downloading dateutils-0.6.12-py2.py3-none-any.whl (5.7 kB)\r\n",
      "Requirement already satisfied: websockets<12.0 in /opt/conda/lib/python3.7/site-packages (from lightning) (10.4)\r\n",
      "Collecting deepdiff<8.0,>=5.7.0\r\n",
      "  Downloading deepdiff-6.3.0-py3-none-any.whl (69 kB)\r\n",
      "\u001b[2K     \u001b[90m━━━━━━━━━━━━━━━━━━━━━━━━━━━━━━━━━━━━━━━━\u001b[0m \u001b[32m69.7/69.7 kB\u001b[0m \u001b[31m7.5 MB/s\u001b[0m eta \u001b[36m0:00:00\u001b[0m\r\n",
      "\u001b[?25hRequirement already satisfied: tqdm<6.0,>=4.57.0 in /opt/conda/lib/python3.7/site-packages (from lightning) (4.64.1)\r\n",
      "Requirement already satisfied: beautifulsoup4<6.0,>=4.8.0 in /opt/conda/lib/python3.7/site-packages (from lightning) (4.11.1)\r\n",
      "Requirement already satisfied: urllib3<3.0 in /opt/conda/lib/python3.7/site-packages (from lightning) (1.26.14)\r\n",
      "Requirement already satisfied: typing-extensions<6.0,>=4.0.0 in /opt/conda/lib/python3.7/site-packages (from lightning) (4.4.0)\r\n",
      "Requirement already satisfied: lightning-utilities<2.0,>=0.6.0.post0 in /opt/conda/lib/python3.7/site-packages (from lightning) (0.7.1)\r\n",
      "Requirement already satisfied: pydantic<3.0 in /opt/conda/lib/python3.7/site-packages (from lightning) (1.10.4)\r\n",
      "Requirement already satisfied: click<10.0 in /opt/conda/lib/python3.7/site-packages (from lightning) (8.1.3)\r\n",
      "Requirement already satisfied: requests<4.0 in /opt/conda/lib/python3.7/site-packages (from lightning) (2.28.2)\r\n",
      "Requirement already satisfied: Jinja2<5.0 in /opt/conda/lib/python3.7/site-packages (from lightning) (3.1.2)\r\n",
      "Requirement already satisfied: torchmetrics<2.0,>=0.7.0 in /opt/conda/lib/python3.7/site-packages (from lightning) (0.11.1)\r\n",
      "Requirement already satisfied: psutil<7.0 in /opt/conda/lib/python3.7/site-packages (from lightning) (5.9.3)\r\n",
      "Requirement already satisfied: python-dateutil>=2.7.0 in /opt/conda/lib/python3.7/site-packages (from arrow<3.0,>=1.2.0->lightning) (2.8.2)\r\n",
      "Requirement already satisfied: soupsieve>1.2 in /opt/conda/lib/python3.7/site-packages (from beautifulsoup4<6.0,>=4.8.0->lightning) (2.3.2.post1)\r\n",
      "Requirement already satisfied: importlib-metadata in /opt/conda/lib/python3.7/site-packages (from click<10.0->lightning) (4.11.4)\r\n",
      "Requirement already satisfied: pytz in /opt/conda/lib/python3.7/site-packages (from dateutils<2.0->lightning) (2022.7.1)\r\n",
      "Collecting ordered-set<4.2.0,>=4.0.2\r\n",
      "  Downloading ordered_set-4.1.0-py3-none-any.whl (7.6 kB)\r\n",
      "Requirement already satisfied: anyio<5,>=3.4.0 in /opt/conda/lib/python3.7/site-packages (from starlette<2.0->lightning) (3.6.2)\r\n",
      "Requirement already satisfied: aiohttp!=4.0.0a0,!=4.0.0a1 in /opt/conda/lib/python3.7/site-packages (from fsspec<2024.0,>=2022.5.0->lightning) (3.8.3)\r\n",
      "Collecting readchar>=3.0.6\r\n",
      "  Downloading readchar-4.0.5-py3-none-any.whl (8.5 kB)\r\n",
      "Requirement already satisfied: blessed>=1.19.0 in /opt/conda/lib/python3.7/site-packages (from inquirer<5.0,>=2.10.0->lightning) (1.19.1)\r\n",
      "Collecting python-editor>=1.0.4\r\n",
      "  Downloading python_editor-1.0.4-py3-none-any.whl (4.9 kB)\r\n",
      "Requirement already satisfied: MarkupSafe>=2.0 in /opt/conda/lib/python3.7/site-packages (from Jinja2<5.0->lightning) (2.1.1)\r\n",
      "Requirement already satisfied: six in /opt/conda/lib/python3.7/site-packages (from lightning-cloud>=0.5.27->lightning) (1.16.0)\r\n",
      "Requirement already satisfied: fastapi[all] in /opt/conda/lib/python3.7/site-packages (from lightning-cloud>=0.5.27->lightning) (0.89.1)\r\n",
      "Requirement already satisfied: pyjwt in /opt/conda/lib/python3.7/site-packages (from lightning-cloud>=0.5.27->lightning) (2.6.0)\r\n",
      "Requirement already satisfied: certifi>=2017.4.17 in /opt/conda/lib/python3.7/site-packages (from requests<4.0->lightning) (2022.12.7)\r\n",
      "Requirement already satisfied: idna<4,>=2.5 in /opt/conda/lib/python3.7/site-packages (from requests<4.0->lightning) (3.4)\r\n",
      "Requirement already satisfied: charset-normalizer<4,>=2 in /opt/conda/lib/python3.7/site-packages (from requests<4.0->lightning) (2.1.1)\r\n",
      "Requirement already satisfied: markdown-it-py<3.0.0,>=2.1.0 in /opt/conda/lib/python3.7/site-packages (from rich<15.0->lightning) (2.1.0)\r\n",
      "Requirement already satisfied: pygments<3.0.0,>=2.6.0 in /opt/conda/lib/python3.7/site-packages (from rich<15.0->lightning) (2.14.0)\r\n",
      "Requirement already satisfied: itsdangerous<3.0.0,>=2.0.1 in /opt/conda/lib/python3.7/site-packages (from starsessions<2.0,>=1.2.1->lightning) (2.1.2)\r\n",
      "Requirement already satisfied: h11>=0.8 in /opt/conda/lib/python3.7/site-packages (from uvicorn<2.0->lightning) (0.14.0)\r\n",
      "Requirement already satisfied: multidict<7.0,>=4.5 in /opt/conda/lib/python3.7/site-packages (from aiohttp!=4.0.0a0,!=4.0.0a1->fsspec<2024.0,>=2022.5.0->lightning) (6.0.4)\r\n",
      "Requirement already satisfied: async-timeout<5.0,>=4.0.0a3 in /opt/conda/lib/python3.7/site-packages (from aiohttp!=4.0.0a0,!=4.0.0a1->fsspec<2024.0,>=2022.5.0->lightning) (4.0.2)\r\n",
      "Requirement already satisfied: frozenlist>=1.1.1 in /opt/conda/lib/python3.7/site-packages (from aiohttp!=4.0.0a0,!=4.0.0a1->fsspec<2024.0,>=2022.5.0->lightning) (1.3.3)\r\n",
      "Requirement already satisfied: yarl<2.0,>=1.0 in /opt/conda/lib/python3.7/site-packages (from aiohttp!=4.0.0a0,!=4.0.0a1->fsspec<2024.0,>=2022.5.0->lightning) (1.8.2)\r\n",
      "Requirement already satisfied: asynctest==0.13.0 in /opt/conda/lib/python3.7/site-packages (from aiohttp!=4.0.0a0,!=4.0.0a1->fsspec<2024.0,>=2022.5.0->lightning) (0.13.0)\r\n",
      "Requirement already satisfied: attrs>=17.3.0 in /opt/conda/lib/python3.7/site-packages (from aiohttp!=4.0.0a0,!=4.0.0a1->fsspec<2024.0,>=2022.5.0->lightning) (22.2.0)\r\n",
      "Requirement already satisfied: aiosignal>=1.1.2 in /opt/conda/lib/python3.7/site-packages (from aiohttp!=4.0.0a0,!=4.0.0a1->fsspec<2024.0,>=2022.5.0->lightning) (1.3.1)\r\n",
      "Requirement already satisfied: sniffio>=1.1 in /opt/conda/lib/python3.7/site-packages (from anyio<5,>=3.4.0->starlette<2.0->lightning) (1.3.0)\r\n",
      "Requirement already satisfied: wcwidth>=0.1.4 in /opt/conda/lib/python3.7/site-packages (from blessed>=1.19.0->inquirer<5.0,>=2.10.0->lightning) (0.2.6)\r\n",
      "Requirement already satisfied: zipp>=0.5 in /opt/conda/lib/python3.7/site-packages (from importlib-metadata->click<10.0->lightning) (3.11.0)\r\n",
      "Requirement already satisfied: mdurl~=0.1 in /opt/conda/lib/python3.7/site-packages (from markdown-it-py<3.0.0,>=2.1.0->rich<15.0->lightning) (0.1.2)\r\n",
      "Requirement already satisfied: setuptools>=41.0 in /opt/conda/lib/python3.7/site-packages (from readchar>=3.0.6->inquirer<5.0,>=2.10.0->lightning) (59.8.0)\r\n",
      "Collecting fastapi[all]\r\n",
      "  Downloading fastapi-0.95.0-py3-none-any.whl (57 kB)\r\n",
      "\u001b[2K     \u001b[90m━━━━━━━━━━━━━━━━━━━━━━━━━━━━━━━━━━━━━━━━\u001b[0m \u001b[32m57.1/57.1 kB\u001b[0m \u001b[31m5.8 MB/s\u001b[0m eta \u001b[36m0:00:00\u001b[0m\r\n",
      "\u001b[?25h  Downloading fastapi-0.94.1-py3-none-any.whl (56 kB)\r\n",
      "\u001b[2K     \u001b[90m━━━━━━━━━━━━━━━━━━━━━━━━━━━━━━━━━━━━━━━━\u001b[0m \u001b[32m56.4/56.4 kB\u001b[0m \u001b[31m5.9 MB/s\u001b[0m eta \u001b[36m0:00:00\u001b[0m\r\n",
      "\u001b[?25h  Downloading fastapi-0.94.0-py3-none-any.whl (56 kB)\r\n",
      "\u001b[2K     \u001b[90m━━━━━━━━━━━━━━━━━━━━━━━━━━━━━━━━━━━━━━━━\u001b[0m \u001b[32m56.3/56.3 kB\u001b[0m \u001b[31m6.0 MB/s\u001b[0m eta \u001b[36m0:00:00\u001b[0m\r\n",
      "\u001b[?25h  Downloading fastapi-0.93.0-py3-none-any.whl (56 kB)\r\n",
      "\u001b[2K     \u001b[90m━━━━━━━━━━━━━━━━━━━━━━━━━━━━━━━━━━━━━━━━\u001b[0m \u001b[32m56.3/56.3 kB\u001b[0m \u001b[31m5.9 MB/s\u001b[0m eta \u001b[36m0:00:00\u001b[0m\r\n",
      "\u001b[?25h  Downloading fastapi-0.92.0-py3-none-any.whl (56 kB)\r\n",
      "\u001b[2K     \u001b[90m━━━━━━━━━━━━━━━━━━━━━━━━━━━━━━━━━━━━━━━━\u001b[0m \u001b[32m56.2/56.2 kB\u001b[0m \u001b[31m5.3 MB/s\u001b[0m eta \u001b[36m0:00:00\u001b[0m\r\n",
      "\u001b[?25h  Downloading fastapi-0.91.0-py3-none-any.whl (56 kB)\r\n",
      "\u001b[2K     \u001b[90m━━━━━━━━━━━━━━━━━━━━━━━━━━━━━━━━━━━━━━━━\u001b[0m \u001b[32m56.2/56.2 kB\u001b[0m \u001b[31m5.8 MB/s\u001b[0m eta \u001b[36m0:00:00\u001b[0m\r\n",
      "\u001b[?25h  Downloading fastapi-0.90.1-py3-none-any.whl (56 kB)\r\n",
      "\u001b[2K     \u001b[90m━━━━━━━━━━━━━━━━━━━━━━━━━━━━━━━━━━━━━━━━\u001b[0m \u001b[32m56.2/56.2 kB\u001b[0m \u001b[31m7.2 MB/s\u001b[0m eta \u001b[36m0:00:00\u001b[0m\r\n",
      "\u001b[?25h  Downloading fastapi-0.90.0-py3-none-any.whl (56 kB)\r\n",
      "\u001b[2K     \u001b[90m━━━━━━━━━━━━━━━━━━━━━━━━━━━━━━━━━━━━━━━━\u001b[0m \u001b[32m56.0/56.0 kB\u001b[0m \u001b[31m6.8 MB/s\u001b[0m eta \u001b[36m0:00:00\u001b[0m\r\n",
      "\u001b[?25h  Downloading fastapi-0.89.0-py3-none-any.whl (55 kB)\r\n",
      "\u001b[2K     \u001b[90m━━━━━━━━━━━━━━━━━━━━━━━━━━━━━━━━━━━━━━━━\u001b[0m \u001b[32m55.6/55.6 kB\u001b[0m \u001b[31m6.1 MB/s\u001b[0m eta \u001b[36m0:00:00\u001b[0m\r\n",
      "\u001b[?25hCollecting httpx>=0.23.0\r\n",
      "  Downloading httpx-0.23.3-py3-none-any.whl (71 kB)\r\n",
      "\u001b[2K     \u001b[90m━━━━━━━━━━━━━━━━━━━━━━━━━━━━━━━━━━━━━━━━\u001b[0m \u001b[32m71.5/71.5 kB\u001b[0m \u001b[31m9.6 MB/s\u001b[0m eta \u001b[36m0:00:00\u001b[0m\r\n",
      "\u001b[?25hCollecting python-multipart>=0.0.5\r\n",
      "  Downloading python_multipart-0.0.6-py3-none-any.whl (45 kB)\r\n",
      "\u001b[2K     \u001b[90m━━━━━━━━━━━━━━━━━━━━━━━━━━━━━━━━━━━━━━━━\u001b[0m \u001b[32m45.7/45.7 kB\u001b[0m \u001b[31m5.3 MB/s\u001b[0m eta \u001b[36m0:00:00\u001b[0m\r\n",
      "\u001b[?25hRequirement already satisfied: orjson>=3.2.1 in /opt/conda/lib/python3.7/site-packages (from fastapi<0.89.0->lightning) (3.8.5)\r\n",
      "Requirement already satisfied: ujson!=4.0.2,!=4.1.0,!=4.2.0,!=4.3.0,!=5.0.0,!=5.1.0,>=4.0.1 in /opt/conda/lib/python3.7/site-packages (from fastapi<0.89.0->lightning) (5.7.0)\r\n",
      "Collecting email-validator>=1.1.1\r\n",
      "  Downloading email_validator-1.3.1-py2.py3-none-any.whl (22 kB)\r\n",
      "Collecting dnspython>=1.15.0\r\n",
      "  Downloading dnspython-2.3.0-py3-none-any.whl (283 kB)\r\n",
      "\u001b[2K     \u001b[90m━━━━━━━━━━━━━━━━━━━━━━━━━━━━━━━━━━━━━━\u001b[0m \u001b[32m283.7/283.7 kB\u001b[0m \u001b[31m28.9 MB/s\u001b[0m eta \u001b[36m0:00:00\u001b[0m\r\n",
      "\u001b[?25hCollecting httpcore<0.17.0,>=0.15.0\r\n",
      "  Downloading httpcore-0.16.3-py3-none-any.whl (69 kB)\r\n",
      "\u001b[2K     \u001b[90m━━━━━━━━━━━━━━━━━━━━━━━━━━━━━━━━━━━━━━━━\u001b[0m \u001b[32m69.6/69.6 kB\u001b[0m \u001b[31m8.4 MB/s\u001b[0m eta \u001b[36m0:00:00\u001b[0m\r\n",
      "\u001b[?25hCollecting rfc3986[idna2008]<2,>=1.3\r\n",
      "  Downloading rfc3986-1.5.0-py2.py3-none-any.whl (31 kB)\r\n",
      "Requirement already satisfied: python-dotenv>=0.13 in /opt/conda/lib/python3.7/site-packages (from uvicorn<2.0->lightning) (0.21.1)\r\n",
      "Requirement already satisfied: uvloop!=0.15.0,!=0.15.1,>=0.14.0 in /opt/conda/lib/python3.7/site-packages (from uvicorn<2.0->lightning) (0.17.0)\r\n",
      "Requirement already satisfied: httptools>=0.5.0 in /opt/conda/lib/python3.7/site-packages (from uvicorn<2.0->lightning) (0.5.0)\r\n",
      "Requirement already satisfied: watchfiles>=0.13 in /opt/conda/lib/python3.7/site-packages (from uvicorn<2.0->lightning) (0.18.1)\r\n",
      "Installing collected packages: rfc3986, python-editor, readchar, python-multipart, ordered-set, dnspython, inquirer, httpcore, email-validator, deepdiff, dateutils, croniter, starsessions, httpx, fastapi, lightning-cloud, lightning\r\n",
      "  Attempting uninstall: fastapi\r\n",
      "    Found existing installation: fastapi 0.89.1\r\n",
      "    Uninstalling fastapi-0.89.1:\r\n",
      "      Successfully uninstalled fastapi-0.89.1\r\n",
      "Successfully installed croniter-1.3.8 dateutils-0.6.12 deepdiff-6.3.0 dnspython-2.3.0 email-validator-1.3.1 fastapi-0.88.0 httpcore-0.16.3 httpx-0.23.3 inquirer-2.10.1 lightning-1.9.4 lightning-cloud-0.5.32 ordered-set-4.1.0 python-editor-1.0.4 python-multipart-0.0.6 readchar-4.0.5 rfc3986-1.5.0 starsessions-1.3.0\r\n",
      "\u001b[33mWARNING: Running pip as the 'root' user can result in broken permissions and conflicting behaviour with the system package manager. It is recommended to use a virtual environment instead: https://pip.pypa.io/warnings/venv\u001b[0m\u001b[33m\r\n",
      "\u001b[0mRequirement already satisfied: datasets in /opt/conda/lib/python3.7/site-packages (2.1.0)\r\n",
      "Requirement already satisfied: tqdm>=4.62.1 in /opt/conda/lib/python3.7/site-packages (from datasets) (4.64.1)\r\n",
      "Requirement already satisfied: xxhash in /opt/conda/lib/python3.7/site-packages (from datasets) (3.2.0)\r\n",
      "Requirement already satisfied: responses<0.19 in /opt/conda/lib/python3.7/site-packages (from datasets) (0.18.0)\r\n",
      "Requirement already satisfied: pandas in /opt/conda/lib/python3.7/site-packages (from datasets) (1.3.5)\r\n",
      "Requirement already satisfied: numpy>=1.17 in /opt/conda/lib/python3.7/site-packages (from datasets) (1.21.6)\r\n",
      "Requirement already satisfied: multiprocess in /opt/conda/lib/python3.7/site-packages (from datasets) (0.70.14)\r\n",
      "Requirement already satisfied: huggingface-hub<1.0.0,>=0.1.0 in /opt/conda/lib/python3.7/site-packages (from datasets) (0.12.1)\r\n",
      "Requirement already satisfied: pyarrow>=5.0.0 in /opt/conda/lib/python3.7/site-packages (from datasets) (5.0.0)\r\n",
      "Requirement already satisfied: requests>=2.19.0 in /opt/conda/lib/python3.7/site-packages (from datasets) (2.28.2)\r\n",
      "Requirement already satisfied: aiohttp in /opt/conda/lib/python3.7/site-packages (from datasets) (3.8.3)\r\n",
      "Requirement already satisfied: importlib-metadata in /opt/conda/lib/python3.7/site-packages (from datasets) (4.11.4)\r\n",
      "Requirement already satisfied: dill in /opt/conda/lib/python3.7/site-packages (from datasets) (0.3.6)\r\n",
      "Requirement already satisfied: fsspec[http]>=2021.05.0 in /opt/conda/lib/python3.7/site-packages (from datasets) (2023.1.0)\r\n",
      "Requirement already satisfied: packaging in /opt/conda/lib/python3.7/site-packages (from datasets) (23.0)\r\n",
      "Requirement already satisfied: yarl<2.0,>=1.0 in /opt/conda/lib/python3.7/site-packages (from aiohttp->datasets) (1.8.2)\r\n",
      "Requirement already satisfied: typing-extensions>=3.7.4 in /opt/conda/lib/python3.7/site-packages (from aiohttp->datasets) (4.4.0)\r\n",
      "Requirement already satisfied: aiosignal>=1.1.2 in /opt/conda/lib/python3.7/site-packages (from aiohttp->datasets) (1.3.1)\r\n",
      "Requirement already satisfied: asynctest==0.13.0 in /opt/conda/lib/python3.7/site-packages (from aiohttp->datasets) (0.13.0)\r\n",
      "Requirement already satisfied: charset-normalizer<3.0,>=2.0 in /opt/conda/lib/python3.7/site-packages (from aiohttp->datasets) (2.1.1)\r\n",
      "Requirement already satisfied: frozenlist>=1.1.1 in /opt/conda/lib/python3.7/site-packages (from aiohttp->datasets) (1.3.3)\r\n",
      "Requirement already satisfied: attrs>=17.3.0 in /opt/conda/lib/python3.7/site-packages (from aiohttp->datasets) (22.2.0)\r\n",
      "Requirement already satisfied: multidict<7.0,>=4.5 in /opt/conda/lib/python3.7/site-packages (from aiohttp->datasets) (6.0.4)\r\n",
      "Requirement already satisfied: async-timeout<5.0,>=4.0.0a3 in /opt/conda/lib/python3.7/site-packages (from aiohttp->datasets) (4.0.2)\r\n",
      "Requirement already satisfied: filelock in /opt/conda/lib/python3.7/site-packages (from huggingface-hub<1.0.0,>=0.1.0->datasets) (3.9.0)\r\n",
      "Requirement already satisfied: pyyaml>=5.1 in /opt/conda/lib/python3.7/site-packages (from huggingface-hub<1.0.0,>=0.1.0->datasets) (6.0)\r\n",
      "Requirement already satisfied: certifi>=2017.4.17 in /opt/conda/lib/python3.7/site-packages (from requests>=2.19.0->datasets) (2022.12.7)\r\n",
      "Requirement already satisfied: urllib3<1.27,>=1.21.1 in /opt/conda/lib/python3.7/site-packages (from requests>=2.19.0->datasets) (1.26.14)\r\n",
      "Requirement already satisfied: idna<4,>=2.5 in /opt/conda/lib/python3.7/site-packages (from requests>=2.19.0->datasets) (3.4)\r\n",
      "Requirement already satisfied: zipp>=0.5 in /opt/conda/lib/python3.7/site-packages (from importlib-metadata->datasets) (3.11.0)\r\n",
      "Requirement already satisfied: python-dateutil>=2.7.3 in /opt/conda/lib/python3.7/site-packages (from pandas->datasets) (2.8.2)\r\n",
      "Requirement already satisfied: pytz>=2017.3 in /opt/conda/lib/python3.7/site-packages (from pandas->datasets) (2022.7.1)\r\n",
      "Requirement already satisfied: six>=1.5 in /opt/conda/lib/python3.7/site-packages (from python-dateutil>=2.7.3->pandas->datasets) (1.16.0)\r\n",
      "\u001b[33mWARNING: Running pip as the 'root' user can result in broken permissions and conflicting behaviour with the system package manager. It is recommended to use a virtual environment instead: https://pip.pypa.io/warnings/venv\u001b[0m\u001b[33m\r\n",
      "\u001b[0m"
     ]
    }
   ],
   "source": [
    "!pip install lightning\n",
    "!pip install datasets"
   ]
  },
  {
   "cell_type": "code",
   "execution_count": 2,
   "id": "a4ba403e",
   "metadata": {
    "execution": {
     "iopub.execute_input": "2023-04-02T23:37:47.492882Z",
     "iopub.status.busy": "2023-04-02T23:37:47.492532Z",
     "iopub.status.idle": "2023-04-02T23:38:00.716016Z",
     "shell.execute_reply": "2023-04-02T23:38:00.714817Z"
    },
    "papermill": {
     "duration": 13.23543,
     "end_time": "2023-04-02T23:38:00.718762",
     "exception": false,
     "start_time": "2023-04-02T23:37:47.483332",
     "status": "completed"
    },
    "tags": []
   },
   "outputs": [],
   "source": [
    "import numpy as np\n",
    "import pandas as pd\n",
    "import os\n",
    "import torch\n",
    "import torch.nn as nn\n",
    "import torch.nn.functional as F\n",
    "import torchvision\n",
    "import lightning.pytorch as pl\n",
    "from torch.utils.data import Dataset, DataLoader\n",
    "import matplotlib.pyplot as plt\n",
    "from torchvision import transforms\n",
    "from torchvision.datasets import ImageFolder\n",
    "from datasets import load_dataset\n",
    "from transformers import DefaultDataCollator\n",
    "from torchvision.models.vision_transformer import VisionTransformer\n",
    "import torchvision\n",
    "import seaborn as sns\n",
    "from sklearn.model_selection import train_test_split\n",
    "from tqdm import tqdm \n",
    "from PIL import Image"
   ]
  },
  {
   "cell_type": "code",
   "execution_count": 3,
   "id": "bcc58edf",
   "metadata": {
    "execution": {
     "iopub.execute_input": "2023-04-02T23:38:00.736683Z",
     "iopub.status.busy": "2023-04-02T23:38:00.736358Z",
     "iopub.status.idle": "2023-04-02T23:38:00.869469Z",
     "shell.execute_reply": "2023-04-02T23:38:00.868373Z"
    },
    "papermill": {
     "duration": 0.145648,
     "end_time": "2023-04-02T23:38:00.872713",
     "exception": false,
     "start_time": "2023-04-02T23:38:00.727065",
     "status": "completed"
    },
    "tags": []
   },
   "outputs": [],
   "source": [
    "dataframe = pd.read_csv(\"/kaggle/input/early-detection-of-3d-printing-issues/train.csv\")"
   ]
  },
  {
   "cell_type": "code",
   "execution_count": 4,
   "id": "d30737e0",
   "metadata": {
    "execution": {
     "iopub.execute_input": "2023-04-02T23:38:00.892951Z",
     "iopub.status.busy": "2023-04-02T23:38:00.891248Z",
     "iopub.status.idle": "2023-04-02T23:38:00.896930Z",
     "shell.execute_reply": "2023-04-02T23:38:00.895948Z"
    },
    "papermill": {
     "duration": 0.017279,
     "end_time": "2023-04-02T23:38:00.899301",
     "exception": false,
     "start_time": "2023-04-02T23:38:00.882022",
     "status": "completed"
    },
    "tags": []
   },
   "outputs": [],
   "source": [
    "root_dir = \"/kaggle/input/early-detection-of-3d-printing-issues/\""
   ]
  },
  {
   "cell_type": "markdown",
   "id": "a25ff7a2",
   "metadata": {
    "papermill": {
     "duration": 0.008108,
     "end_time": "2023-04-02T23:38:00.915703",
     "exception": false,
     "start_time": "2023-04-02T23:38:00.907595",
     "status": "completed"
    },
    "tags": []
   },
   "source": [
    "# Split\n",
    "\n",
    "For validation of the model, I have removed printer 22. For final training, I have kept printer 22 in the training set."
   ]
  },
  {
   "cell_type": "code",
   "execution_count": 5,
   "id": "998123e6",
   "metadata": {
    "execution": {
     "iopub.execute_input": "2023-04-02T23:38:00.933462Z",
     "iopub.status.busy": "2023-04-02T23:38:00.933141Z",
     "iopub.status.idle": "2023-04-02T23:38:00.945413Z",
     "shell.execute_reply": "2023-04-02T23:38:00.944495Z"
    },
    "papermill": {
     "duration": 0.023819,
     "end_time": "2023-04-02T23:38:00.947756",
     "exception": false,
     "start_time": "2023-04-02T23:38:00.923937",
     "status": "completed"
    },
    "tags": []
   },
   "outputs": [],
   "source": [
    "train_df, val_df = dataframe, dataframe[dataframe['printer_id'] == 22]"
   ]
  },
  {
   "cell_type": "code",
   "execution_count": 6,
   "id": "46aa4ace",
   "metadata": {
    "execution": {
     "iopub.execute_input": "2023-04-02T23:38:00.964778Z",
     "iopub.status.busy": "2023-04-02T23:38:00.964495Z",
     "iopub.status.idle": "2023-04-02T23:38:00.972894Z",
     "shell.execute_reply": "2023-04-02T23:38:00.971889Z"
    },
    "papermill": {
     "duration": 0.019455,
     "end_time": "2023-04-02T23:38:00.975073",
     "exception": false,
     "start_time": "2023-04-02T23:38:00.955618",
     "status": "completed"
    },
    "tags": []
   },
   "outputs": [
    {
     "data": {
      "text/plain": [
       "(81060, 7492)"
      ]
     },
     "execution_count": 6,
     "metadata": {},
     "output_type": "execute_result"
    }
   ],
   "source": [
    "len(train_df), len(val_df)"
   ]
  },
  {
   "cell_type": "markdown",
   "id": "405c9616",
   "metadata": {
    "papermill": {
     "duration": 0.00778,
     "end_time": "2023-04-02T23:38:00.991089",
     "exception": false,
     "start_time": "2023-04-02T23:38:00.983309",
     "status": "completed"
    },
    "tags": []
   },
   "source": [
    "# Augumenting dataset and improving predictions using bagging\n",
    "\n",
    "A neat trick to improve prediction is to have the model predict the class for 4 sub-images instead of a single image. What is a sub image? I have divided every image into 4 regions of size 240x320. This helps in keeping most of the image intact when downsampling to 200x200 and allows me to have a more accurate prediction.  "
   ]
  },
  {
   "cell_type": "code",
   "execution_count": 7,
   "id": "ee7bee37",
   "metadata": {
    "execution": {
     "iopub.execute_input": "2023-04-02T23:38:01.009314Z",
     "iopub.status.busy": "2023-04-02T23:38:01.008318Z",
     "iopub.status.idle": "2023-04-02T23:38:01.017203Z",
     "shell.execute_reply": "2023-04-02T23:38:01.016307Z"
    },
    "papermill": {
     "duration": 0.020167,
     "end_time": "2023-04-02T23:38:01.019236",
     "exception": false,
     "start_time": "2023-04-02T23:38:00.999069",
     "status": "completed"
    },
    "tags": []
   },
   "outputs": [],
   "source": [
    "class ClassificationDataset(Dataset):\n",
    "\n",
    "    def __init__(self, dataset):\n",
    "        # Transforms\n",
    "        self.dataset = dataset\n",
    "        self.to_tensor = transforms.ToTensor()\n",
    "        self.resize = transforms.Resize(size = (200, 200))\n",
    "#         self.grayscale = transforms.Grayscale()\n",
    "        self.root_dir = \"/kaggle/input/early-detection-of-3d-printing-issues/images/\"\n",
    "        \n",
    "    def __len__(self):\n",
    "        return len(self.dataset)\n",
    "\n",
    "    def __getitem__(self, idx):\n",
    "        \n",
    "        row = self.dataset.iloc[idx]\n",
    "        image = self.to_tensor(Image.open(self.root_dir + row['img_path']))\n",
    "        image1 = self.resize(image[:, :240, :320])\n",
    "        image2 = self.resize(image[:, 240:, :320])\n",
    "        image3 = self.resize(image[:, :240, 320:])\n",
    "        image4 = self.resize(image[:, 240:, 320:])\n",
    "#         return self.grayscale(image), torch.Tensor([row['has_under_extrusion']])\n",
    "        return torch.stack([image1, image2, image3, image4]), torch.stack([torch.Tensor([row['has_under_extrusion']])]*4)    "
   ]
  },
  {
   "cell_type": "code",
   "execution_count": 8,
   "id": "a729526e",
   "metadata": {
    "execution": {
     "iopub.execute_input": "2023-04-02T23:38:01.036574Z",
     "iopub.status.busy": "2023-04-02T23:38:01.036307Z",
     "iopub.status.idle": "2023-04-02T23:38:01.040802Z",
     "shell.execute_reply": "2023-04-02T23:38:01.039765Z"
    },
    "papermill": {
     "duration": 0.015596,
     "end_time": "2023-04-02T23:38:01.043009",
     "exception": false,
     "start_time": "2023-04-02T23:38:01.027413",
     "status": "completed"
    },
    "tags": []
   },
   "outputs": [],
   "source": [
    "train_ds, val_ds = ClassificationDataset(train_df), ClassificationDataset(val_df)"
   ]
  },
  {
   "cell_type": "code",
   "execution_count": 9,
   "id": "9e403c87",
   "metadata": {
    "execution": {
     "iopub.execute_input": "2023-04-02T23:38:01.062220Z",
     "iopub.status.busy": "2023-04-02T23:38:01.061943Z",
     "iopub.status.idle": "2023-04-02T23:38:01.067240Z",
     "shell.execute_reply": "2023-04-02T23:38:01.066169Z"
    },
    "papermill": {
     "duration": 0.017454,
     "end_time": "2023-04-02T23:38:01.069714",
     "exception": false,
     "start_time": "2023-04-02T23:38:01.052260",
     "status": "completed"
    },
    "tags": []
   },
   "outputs": [],
   "source": [
    "train_dataloader = DataLoader(\n",
    "    train_ds,\n",
    "    batch_size=16,\n",
    "    shuffle=True,\n",
    "    pin_memory=True,\n",
    "    num_workers=2\n",
    ")\n",
    "vl_dataloader = DataLoader(\n",
    "    val_ds,\n",
    "    batch_size=16,\n",
    "    shuffle=True,\n",
    "    pin_memory=True,\n",
    "    num_workers=2\n",
    ")"
   ]
  },
  {
   "cell_type": "markdown",
   "id": "5d70e6d0",
   "metadata": {
    "papermill": {
     "duration": 0.008078,
     "end_time": "2023-04-02T23:38:01.085840",
     "exception": false,
     "start_time": "2023-04-02T23:38:01.077762",
     "status": "completed"
    },
    "tags": []
   },
   "source": [
    "# Model\n",
    "\n",
    "The model currently being used is the ResNet34 and ResNet50. Initial predictions were submitted on a randomly initialised ResNet34, now trying to run ResNet50 with trained weights. "
   ]
  },
  {
   "cell_type": "code",
   "execution_count": 10,
   "id": "fb05c40f",
   "metadata": {
    "execution": {
     "iopub.execute_input": "2023-04-02T23:38:01.104725Z",
     "iopub.status.busy": "2023-04-02T23:38:01.103802Z",
     "iopub.status.idle": "2023-04-02T23:38:01.113896Z",
     "shell.execute_reply": "2023-04-02T23:38:01.112974Z"
    },
    "papermill": {
     "duration": 0.021728,
     "end_time": "2023-04-02T23:38:01.116047",
     "exception": false,
     "start_time": "2023-04-02T23:38:01.094319",
     "status": "completed"
    },
    "tags": []
   },
   "outputs": [],
   "source": [
    "class Identity(nn.Module):\n",
    "    def __init__(self):\n",
    "        super(Identity, self).__init__()\n",
    "        \n",
    "    def forward(self, x):\n",
    "        return x\n",
    "    \n",
    "class ResNetClassifier(pl.LightningModule):\n",
    "    \n",
    "    def __init__(self):\n",
    "        super().__init__()\n",
    "        \n",
    "        self.resnet = torchvision.models.resnet101(weights=\"IMAGENET1K_V2\")\n",
    "        self.resnet.fc = nn.Linear(2048, 1)\n",
    "        self.criterion = nn.BCEWithLogitsLoss()\n",
    "    \n",
    "    def forward(self, x):\n",
    "        return self.resnet(x)\n",
    "    \n",
    "    def configure_optimizers(self):\n",
    "        optimizer = torch.optim.Adam(self.parameters(), lr=0.00001)\n",
    "        # scheduler = torch.optim.lr_scheduler.ReduceLROnPlateau(optimizer, patience = 5)\n",
    "        \n",
    "        return [optimizer]\n",
    "    \n",
    "    \n",
    "    def training_step(self, batch, batch_idx):\n",
    "        x, y = batch\n",
    "        x = x.reshape(-1, 3, 200, 200)\n",
    "        y = y.reshape(-1, 1)\n",
    "        y_hat = self(x)\n",
    "        loss = self.criterion(y_hat, y)\n",
    "#         self.log(\"train_loss\", loss.item(), prog_bar=True)\n",
    "        return loss\n",
    "\n",
    "    def predict_step(self, batch, batch_idx):\n",
    "        x = batch\n",
    "        x = x.reshape(-1, 3, 200, 200)\n",
    "        y_hat = self(x)\n",
    "        \n",
    "        return y_hat\n",
    "        \n",
    "   "
   ]
  },
  {
   "cell_type": "code",
   "execution_count": 11,
   "id": "dae1c081",
   "metadata": {
    "execution": {
     "iopub.execute_input": "2023-04-02T23:38:01.134335Z",
     "iopub.status.busy": "2023-04-02T23:38:01.133228Z",
     "iopub.status.idle": "2023-04-02T23:38:04.527377Z",
     "shell.execute_reply": "2023-04-02T23:38:04.525716Z"
    },
    "papermill": {
     "duration": 3.408122,
     "end_time": "2023-04-02T23:38:04.532238",
     "exception": false,
     "start_time": "2023-04-02T23:38:01.124116",
     "status": "completed"
    },
    "tags": []
   },
   "outputs": [
    {
     "name": "stderr",
     "output_type": "stream",
     "text": [
      "Downloading: \"https://download.pytorch.org/models/resnet101-cd907fc2.pth\" to /root/.cache/torch/hub/checkpoints/resnet101-cd907fc2.pth\n"
     ]
    },
    {
     "data": {
      "application/vnd.jupyter.widget-view+json": {
       "model_id": "1aff7aa8f0b6426abd98fd2475ffc6c3",
       "version_major": 2,
       "version_minor": 0
      },
      "text/plain": [
       "  0%|          | 0.00/171M [00:00<?, ?B/s]"
      ]
     },
     "metadata": {},
     "output_type": "display_data"
    }
   ],
   "source": [
    "classifier = ResNetClassifier()"
   ]
  },
  {
   "cell_type": "code",
   "execution_count": 12,
   "id": "58ef0c13",
   "metadata": {
    "execution": {
     "iopub.execute_input": "2023-04-02T23:38:04.564965Z",
     "iopub.status.busy": "2023-04-02T23:38:04.563882Z",
     "iopub.status.idle": "2023-04-02T23:38:04.628745Z",
     "shell.execute_reply": "2023-04-02T23:38:04.627566Z"
    },
    "papermill": {
     "duration": 0.080802,
     "end_time": "2023-04-02T23:38:04.634703",
     "exception": false,
     "start_time": "2023-04-02T23:38:04.553901",
     "status": "completed"
    },
    "tags": []
   },
   "outputs": [
    {
     "name": "stderr",
     "output_type": "stream",
     "text": [
      "INFO: Using 16bit None Automatic Mixed Precision (AMP)\n",
      "INFO: GPU available: True (cuda), used: True\n",
      "INFO: TPU available: False, using: 0 TPU cores\n",
      "INFO: IPU available: False, using: 0 IPUs\n",
      "INFO: HPU available: False, using: 0 HPUs\n"
     ]
    }
   ],
   "source": [
    "trainer = pl.Trainer(max_epochs = 10, accelerator = \"gpu\", enable_progress_bar = True, precision=\"16\",)"
   ]
  },
  {
   "cell_type": "code",
   "execution_count": 13,
   "id": "510914cb",
   "metadata": {
    "execution": {
     "iopub.execute_input": "2023-04-02T23:38:04.654477Z",
     "iopub.status.busy": "2023-04-02T23:38:04.653816Z",
     "iopub.status.idle": "2023-04-03T06:57:59.499921Z",
     "shell.execute_reply": "2023-04-03T06:57:59.498784Z"
    },
    "papermill": {
     "duration": 26394.858894,
     "end_time": "2023-04-03T06:57:59.502773",
     "exception": false,
     "start_time": "2023-04-02T23:38:04.643879",
     "status": "completed"
    },
    "tags": []
   },
   "outputs": [
    {
     "name": "stderr",
     "output_type": "stream",
     "text": [
      "WARNING: Missing logger folder: /kaggle/working/lightning_logs\n",
      "INFO: LOCAL_RANK: 0 - CUDA_VISIBLE_DEVICES: [0]\n",
      "INFO: \n",
      "  | Name      | Type              | Params\n",
      "------------------------------------------------\n",
      "0 | resnet    | ResNet            | 42.5 M\n",
      "1 | criterion | BCEWithLogitsLoss | 0     \n",
      "------------------------------------------------\n",
      "42.5 M    Trainable params\n",
      "0         Non-trainable params\n",
      "42.5 M    Total params\n",
      "85.004    Total estimated model params size (MB)\n"
     ]
    },
    {
     "data": {
      "application/vnd.jupyter.widget-view+json": {
       "model_id": "6a630785581d4b528f2ea34dd32e2814",
       "version_major": 2,
       "version_minor": 0
      },
      "text/plain": [
       "Training: 0it [00:00, ?it/s]"
      ]
     },
     "metadata": {},
     "output_type": "display_data"
    },
    {
     "name": "stderr",
     "output_type": "stream",
     "text": [
      "INFO: `Trainer.fit` stopped: `max_epochs=10` reached.\n"
     ]
    }
   ],
   "source": [
    "trainer.fit(classifier, train_dataloader)"
   ]
  },
  {
   "cell_type": "code",
   "execution_count": 14,
   "id": "cd01c1fd",
   "metadata": {
    "execution": {
     "iopub.execute_input": "2023-04-03T06:57:59.522579Z",
     "iopub.status.busy": "2023-04-03T06:57:59.522246Z",
     "iopub.status.idle": "2023-04-03T06:57:59.582560Z",
     "shell.execute_reply": "2023-04-03T06:57:59.581546Z"
    },
    "papermill": {
     "duration": 0.072905,
     "end_time": "2023-04-03T06:57:59.584965",
     "exception": false,
     "start_time": "2023-04-03T06:57:59.512060",
     "status": "completed"
    },
    "tags": []
   },
   "outputs": [],
   "source": [
    "test_dataframe = pd.read_csv(\"/kaggle/input/early-detection-of-3d-printing-issues/test.csv\")"
   ]
  },
  {
   "cell_type": "code",
   "execution_count": 15,
   "id": "2a6ba208",
   "metadata": {
    "execution": {
     "iopub.execute_input": "2023-04-03T06:57:59.604523Z",
     "iopub.status.busy": "2023-04-03T06:57:59.604187Z",
     "iopub.status.idle": "2023-04-03T06:57:59.612653Z",
     "shell.execute_reply": "2023-04-03T06:57:59.611527Z"
    },
    "papermill": {
     "duration": 0.020652,
     "end_time": "2023-04-03T06:57:59.614832",
     "exception": false,
     "start_time": "2023-04-03T06:57:59.594180",
     "status": "completed"
    },
    "tags": []
   },
   "outputs": [],
   "source": [
    "class ClassificationDatasetTest(Dataset):\n",
    "\n",
    "    def __init__(self, dataset):\n",
    "        # Transforms\n",
    "        self.dataset = dataset\n",
    "        self.to_tensor = transforms.ToTensor()\n",
    "        self.resize = transforms.Resize(size = (200, 200))\n",
    "#         self.grayscale = transforms.Grayscale()\n",
    "        self.root_dir = \"/kaggle/input/early-detection-of-3d-printing-issues/images/\"\n",
    "        \n",
    "    def __len__(self):\n",
    "        return len(self.dataset)\n",
    "\n",
    "    def __getitem__(self, idx):\n",
    "        \n",
    "        row = self.dataset.iloc[idx]\n",
    "        image = self.to_tensor(Image.open(self.root_dir + row['img_path']))\n",
    "        image1 = self.resize(image[:, :240, :320])\n",
    "        image2 = self.resize(image[:, 240:, :320])\n",
    "        image3 = self.resize(image[:, :240, 320:])\n",
    "        image4 = self.resize(image[:, 240:, 320:])\n",
    "#         return self.grayscale(image), torch.Tensor([row['has_under_extrusion']])\n",
    "        return torch.stack([image1, image2, image3, image4])   "
   ]
  },
  {
   "cell_type": "code",
   "execution_count": 16,
   "id": "8ee46e20",
   "metadata": {
    "execution": {
     "iopub.execute_input": "2023-04-03T06:57:59.634115Z",
     "iopub.status.busy": "2023-04-03T06:57:59.633281Z",
     "iopub.status.idle": "2023-04-03T06:57:59.639262Z",
     "shell.execute_reply": "2023-04-03T06:57:59.638344Z"
    },
    "papermill": {
     "duration": 0.017612,
     "end_time": "2023-04-03T06:57:59.641277",
     "exception": false,
     "start_time": "2023-04-03T06:57:59.623665",
     "status": "completed"
    },
    "tags": []
   },
   "outputs": [],
   "source": [
    "test_dataloader = DataLoader(\n",
    "    ClassificationDatasetTest(test_dataframe),\n",
    "    batch_size=16,\n",
    "    shuffle=False,\n",
    "    pin_memory=True,\n",
    "    num_workers=2\n",
    ")"
   ]
  },
  {
   "cell_type": "code",
   "execution_count": 17,
   "id": "ae480139",
   "metadata": {
    "execution": {
     "iopub.execute_input": "2023-04-03T06:57:59.660979Z",
     "iopub.status.busy": "2023-04-03T06:57:59.659514Z",
     "iopub.status.idle": "2023-04-03T07:07:12.808692Z",
     "shell.execute_reply": "2023-04-03T07:07:12.807513Z"
    },
    "papermill": {
     "duration": 553.161566,
     "end_time": "2023-04-03T07:07:12.811394",
     "exception": false,
     "start_time": "2023-04-03T06:57:59.649828",
     "status": "completed"
    },
    "tags": []
   },
   "outputs": [
    {
     "name": "stderr",
     "output_type": "stream",
     "text": [
      "INFO: LOCAL_RANK: 0 - CUDA_VISIBLE_DEVICES: [0]\n"
     ]
    },
    {
     "data": {
      "application/vnd.jupyter.widget-view+json": {
       "model_id": "ee5e64be41984019a370760f6a2c04ab",
       "version_major": 2,
       "version_minor": 0
      },
      "text/plain": [
       "Predicting: 5067it [00:00, ?it/s]"
      ]
     },
     "metadata": {},
     "output_type": "display_data"
    }
   ],
   "source": [
    "# trainer = pl.Trainer(max_epochs = 3, accelerator = \"gpu\", enable_progress_bar = True, precision=\"16\",)\n",
    "pred = trainer.predict(classifier, test_dataloader)"
   ]
  },
  {
   "cell_type": "code",
   "execution_count": 18,
   "id": "7b61bfc2",
   "metadata": {
    "execution": {
     "iopub.execute_input": "2023-04-03T07:07:12.832998Z",
     "iopub.status.busy": "2023-04-03T07:07:12.831326Z",
     "iopub.status.idle": "2023-04-03T07:07:12.843998Z",
     "shell.execute_reply": "2023-04-03T07:07:12.843077Z"
    },
    "papermill": {
     "duration": 0.025467,
     "end_time": "2023-04-03T07:07:12.846363",
     "exception": false,
     "start_time": "2023-04-03T07:07:12.820896",
     "status": "completed"
    },
    "tags": []
   },
   "outputs": [],
   "source": [
    "pred = torch.cat(pred)"
   ]
  },
  {
   "cell_type": "code",
   "execution_count": 19,
   "id": "a31fb861",
   "metadata": {
    "execution": {
     "iopub.execute_input": "2023-04-03T07:07:12.865530Z",
     "iopub.status.busy": "2023-04-03T07:07:12.865241Z",
     "iopub.status.idle": "2023-04-03T07:07:13.330949Z",
     "shell.execute_reply": "2023-04-03T07:07:13.329810Z"
    },
    "papermill": {
     "duration": 0.478556,
     "end_time": "2023-04-03T07:07:13.333808",
     "exception": false,
     "start_time": "2023-04-03T07:07:12.855252",
     "status": "completed"
    },
    "tags": []
   },
   "outputs": [],
   "source": [
    "pred_ids = []\n",
    "for i in range(0, pred.shape[0], 4):\n",
    "    \n",
    "    data = torch.mean(torch.sigmoid(pred[i:i+4].double())).item()\n",
    "    pred_ids.append(int(data > 0.5))\n",
    "    "
   ]
  },
  {
   "cell_type": "code",
   "execution_count": 20,
   "id": "6b2ad94a",
   "metadata": {
    "execution": {
     "iopub.execute_input": "2023-04-03T07:07:13.354711Z",
     "iopub.status.busy": "2023-04-03T07:07:13.354373Z",
     "iopub.status.idle": "2023-04-03T07:07:13.372772Z",
     "shell.execute_reply": "2023-04-03T07:07:13.371829Z"
    },
    "papermill": {
     "duration": 0.031397,
     "end_time": "2023-04-03T07:07:13.374963",
     "exception": false,
     "start_time": "2023-04-03T07:07:13.343566",
     "status": "completed"
    },
    "tags": []
   },
   "outputs": [],
   "source": [
    "test_dataframe['has_under_extrusion'] = pred_ids"
   ]
  },
  {
   "cell_type": "code",
   "execution_count": 21,
   "id": "920f8126",
   "metadata": {
    "execution": {
     "iopub.execute_input": "2023-04-03T07:07:13.394450Z",
     "iopub.status.busy": "2023-04-03T07:07:13.394116Z",
     "iopub.status.idle": "2023-04-03T07:07:13.453964Z",
     "shell.execute_reply": "2023-04-03T07:07:13.452940Z"
    },
    "papermill": {
     "duration": 0.072361,
     "end_time": "2023-04-03T07:07:13.456351",
     "exception": false,
     "start_time": "2023-04-03T07:07:13.383990",
     "status": "completed"
    },
    "tags": []
   },
   "outputs": [],
   "source": [
    "test_dataframe[['img_path', 'has_under_extrusion']].to_csv(\"/kaggle/working/submission.csv\", index=False)"
   ]
  },
  {
   "cell_type": "code",
   "execution_count": null,
   "id": "e32eec77",
   "metadata": {
    "papermill": {
     "duration": 0.008718,
     "end_time": "2023-04-03T07:07:13.474273",
     "exception": false,
     "start_time": "2023-04-03T07:07:13.465555",
     "status": "completed"
    },
    "tags": []
   },
   "outputs": [],
   "source": []
  }
 ],
 "metadata": {
  "kernelspec": {
   "display_name": "Python 3",
   "language": "python",
   "name": "python3"
  },
  "language_info": {
   "codemirror_mode": {
    "name": "ipython",
    "version": 3
   },
   "file_extension": ".py",
   "mimetype": "text/x-python",
   "name": "python",
   "nbconvert_exporter": "python",
   "pygments_lexer": "ipython3",
   "version": "3.7.12"
  },
  "papermill": {
   "default_parameters": {},
   "duration": 27004.216169,
   "end_time": "2023-04-03T07:07:16.727378",
   "environment_variables": {},
   "exception": null,
   "input_path": "__notebook__.ipynb",
   "output_path": "__notebook__.ipynb",
   "parameters": {},
   "start_time": "2023-04-02T23:37:12.511209",
   "version": "2.4.0"
  },
  "widgets": {
   "application/vnd.jupyter.widget-state+json": {
    "state": {
     "01d4f35448fb41248325bf6bab6eeec6": {
      "model_module": "@jupyter-widgets/base",
      "model_module_version": "1.2.0",
      "model_name": "LayoutModel",
      "state": {
       "_model_module": "@jupyter-widgets/base",
       "_model_module_version": "1.2.0",
       "_model_name": "LayoutModel",
       "_view_count": null,
       "_view_module": "@jupyter-widgets/base",
       "_view_module_version": "1.2.0",
       "_view_name": "LayoutView",
       "align_content": null,
       "align_items": null,
       "align_self": null,
       "border": null,
       "bottom": null,
       "display": null,
       "flex": null,
       "flex_flow": null,
       "grid_area": null,
       "grid_auto_columns": null,
       "grid_auto_flow": null,
       "grid_auto_rows": null,
       "grid_column": null,
       "grid_gap": null,
       "grid_row": null,
       "grid_template_areas": null,
       "grid_template_columns": null,
       "grid_template_rows": null,
       "height": null,
       "justify_content": null,
       "justify_items": null,
       "left": null,
       "margin": null,
       "max_height": null,
       "max_width": null,
       "min_height": null,
       "min_width": null,
       "object_fit": null,
       "object_position": null,
       "order": null,
       "overflow": null,
       "overflow_x": null,
       "overflow_y": null,
       "padding": null,
       "right": null,
       "top": null,
       "visibility": null,
       "width": null
      }
     },
     "060d75ac2649406db7190e16f40c6ec1": {
      "model_module": "@jupyter-widgets/controls",
      "model_module_version": "1.5.0",
      "model_name": "DescriptionStyleModel",
      "state": {
       "_model_module": "@jupyter-widgets/controls",
       "_model_module_version": "1.5.0",
       "_model_name": "DescriptionStyleModel",
       "_view_count": null,
       "_view_module": "@jupyter-widgets/base",
       "_view_module_version": "1.2.0",
       "_view_name": "StyleView",
       "description_width": ""
      }
     },
     "066b3a940c984d76ae29b3a16aa751f6": {
      "model_module": "@jupyter-widgets/controls",
      "model_module_version": "1.5.0",
      "model_name": "HTMLModel",
      "state": {
       "_dom_classes": [],
       "_model_module": "@jupyter-widgets/controls",
       "_model_module_version": "1.5.0",
       "_model_name": "HTMLModel",
       "_view_count": null,
       "_view_module": "@jupyter-widgets/controls",
       "_view_module_version": "1.5.0",
       "_view_name": "HTMLView",
       "description": "",
       "description_tooltip": null,
       "layout": "IPY_MODEL_a249a4c488aa4659a7a8e966d9b2c8f9",
       "placeholder": "​",
       "style": "IPY_MODEL_ef4072ff3a964915a7e217f4bd591379",
       "value": " 171M/171M [00:02&lt;00:00, 75.1MB/s]"
      }
     },
     "0a66905b1de44a3487c6c6f87522b24f": {
      "model_module": "@jupyter-widgets/controls",
      "model_module_version": "1.5.0",
      "model_name": "HTMLModel",
      "state": {
       "_dom_classes": [],
       "_model_module": "@jupyter-widgets/controls",
       "_model_module_version": "1.5.0",
       "_model_name": "HTMLModel",
       "_view_count": null,
       "_view_module": "@jupyter-widgets/controls",
       "_view_module_version": "1.5.0",
       "_view_name": "HTMLView",
       "description": "",
       "description_tooltip": null,
       "layout": "IPY_MODEL_0cf82b1fdc1e4844866ab8daf6218fa0",
       "placeholder": "​",
       "style": "IPY_MODEL_117eb8365e714f29a9a644f58636e46e",
       "value": "Predicting DataLoader 0: 100%"
      }
     },
     "0b353d18ae5849bd969592fe24af8bed": {
      "model_module": "@jupyter-widgets/base",
      "model_module_version": "1.2.0",
      "model_name": "LayoutModel",
      "state": {
       "_model_module": "@jupyter-widgets/base",
       "_model_module_version": "1.2.0",
       "_model_name": "LayoutModel",
       "_view_count": null,
       "_view_module": "@jupyter-widgets/base",
       "_view_module_version": "1.2.0",
       "_view_name": "LayoutView",
       "align_content": null,
       "align_items": null,
       "align_self": null,
       "border": null,
       "bottom": null,
       "display": null,
       "flex": null,
       "flex_flow": null,
       "grid_area": null,
       "grid_auto_columns": null,
       "grid_auto_flow": null,
       "grid_auto_rows": null,
       "grid_column": null,
       "grid_gap": null,
       "grid_row": null,
       "grid_template_areas": null,
       "grid_template_columns": null,
       "grid_template_rows": null,
       "height": null,
       "justify_content": null,
       "justify_items": null,
       "left": null,
       "margin": null,
       "max_height": null,
       "max_width": null,
       "min_height": null,
       "min_width": null,
       "object_fit": null,
       "object_position": null,
       "order": null,
       "overflow": null,
       "overflow_x": null,
       "overflow_y": null,
       "padding": null,
       "right": null,
       "top": null,
       "visibility": null,
       "width": null
      }
     },
     "0cf82b1fdc1e4844866ab8daf6218fa0": {
      "model_module": "@jupyter-widgets/base",
      "model_module_version": "1.2.0",
      "model_name": "LayoutModel",
      "state": {
       "_model_module": "@jupyter-widgets/base",
       "_model_module_version": "1.2.0",
       "_model_name": "LayoutModel",
       "_view_count": null,
       "_view_module": "@jupyter-widgets/base",
       "_view_module_version": "1.2.0",
       "_view_name": "LayoutView",
       "align_content": null,
       "align_items": null,
       "align_self": null,
       "border": null,
       "bottom": null,
       "display": null,
       "flex": null,
       "flex_flow": null,
       "grid_area": null,
       "grid_auto_columns": null,
       "grid_auto_flow": null,
       "grid_auto_rows": null,
       "grid_column": null,
       "grid_gap": null,
       "grid_row": null,
       "grid_template_areas": null,
       "grid_template_columns": null,
       "grid_template_rows": null,
       "height": null,
       "justify_content": null,
       "justify_items": null,
       "left": null,
       "margin": null,
       "max_height": null,
       "max_width": null,
       "min_height": null,
       "min_width": null,
       "object_fit": null,
       "object_position": null,
       "order": null,
       "overflow": null,
       "overflow_x": null,
       "overflow_y": null,
       "padding": null,
       "right": null,
       "top": null,
       "visibility": null,
       "width": null
      }
     },
     "117eb8365e714f29a9a644f58636e46e": {
      "model_module": "@jupyter-widgets/controls",
      "model_module_version": "1.5.0",
      "model_name": "DescriptionStyleModel",
      "state": {
       "_model_module": "@jupyter-widgets/controls",
       "_model_module_version": "1.5.0",
       "_model_name": "DescriptionStyleModel",
       "_view_count": null,
       "_view_module": "@jupyter-widgets/base",
       "_view_module_version": "1.2.0",
       "_view_name": "StyleView",
       "description_width": ""
      }
     },
     "15a766e30f8442dfa4a69bfcf2066cd1": {
      "model_module": "@jupyter-widgets/base",
      "model_module_version": "1.2.0",
      "model_name": "LayoutModel",
      "state": {
       "_model_module": "@jupyter-widgets/base",
       "_model_module_version": "1.2.0",
       "_model_name": "LayoutModel",
       "_view_count": null,
       "_view_module": "@jupyter-widgets/base",
       "_view_module_version": "1.2.0",
       "_view_name": "LayoutView",
       "align_content": null,
       "align_items": null,
       "align_self": null,
       "border": null,
       "bottom": null,
       "display": "inline-flex",
       "flex": null,
       "flex_flow": "row wrap",
       "grid_area": null,
       "grid_auto_columns": null,
       "grid_auto_flow": null,
       "grid_auto_rows": null,
       "grid_column": null,
       "grid_gap": null,
       "grid_row": null,
       "grid_template_areas": null,
       "grid_template_columns": null,
       "grid_template_rows": null,
       "height": null,
       "justify_content": null,
       "justify_items": null,
       "left": null,
       "margin": null,
       "max_height": null,
       "max_width": null,
       "min_height": null,
       "min_width": null,
       "object_fit": null,
       "object_position": null,
       "order": null,
       "overflow": null,
       "overflow_x": null,
       "overflow_y": null,
       "padding": null,
       "right": null,
       "top": null,
       "visibility": null,
       "width": "100%"
      }
     },
     "1aff7aa8f0b6426abd98fd2475ffc6c3": {
      "model_module": "@jupyter-widgets/controls",
      "model_module_version": "1.5.0",
      "model_name": "HBoxModel",
      "state": {
       "_dom_classes": [],
       "_model_module": "@jupyter-widgets/controls",
       "_model_module_version": "1.5.0",
       "_model_name": "HBoxModel",
       "_view_count": null,
       "_view_module": "@jupyter-widgets/controls",
       "_view_module_version": "1.5.0",
       "_view_name": "HBoxView",
       "box_style": "",
       "children": [
        "IPY_MODEL_1f343badca9243a4a744b17210f52b61",
        "IPY_MODEL_ff1b93b468f447ef8e3150339d3f5c79",
        "IPY_MODEL_066b3a940c984d76ae29b3a16aa751f6"
       ],
       "layout": "IPY_MODEL_2b000eda3e884a979afc526bd923d3e2"
      }
     },
     "1d2ea6f376ae44cbbcde3163b0cf509a": {
      "model_module": "@jupyter-widgets/base",
      "model_module_version": "1.2.0",
      "model_name": "LayoutModel",
      "state": {
       "_model_module": "@jupyter-widgets/base",
       "_model_module_version": "1.2.0",
       "_model_name": "LayoutModel",
       "_view_count": null,
       "_view_module": "@jupyter-widgets/base",
       "_view_module_version": "1.2.0",
       "_view_name": "LayoutView",
       "align_content": null,
       "align_items": null,
       "align_self": null,
       "border": null,
       "bottom": null,
       "display": null,
       "flex": null,
       "flex_flow": null,
       "grid_area": null,
       "grid_auto_columns": null,
       "grid_auto_flow": null,
       "grid_auto_rows": null,
       "grid_column": null,
       "grid_gap": null,
       "grid_row": null,
       "grid_template_areas": null,
       "grid_template_columns": null,
       "grid_template_rows": null,
       "height": null,
       "justify_content": null,
       "justify_items": null,
       "left": null,
       "margin": null,
       "max_height": null,
       "max_width": null,
       "min_height": null,
       "min_width": null,
       "object_fit": null,
       "object_position": null,
       "order": null,
       "overflow": null,
       "overflow_x": null,
       "overflow_y": null,
       "padding": null,
       "right": null,
       "top": null,
       "visibility": null,
       "width": null
      }
     },
     "1f343badca9243a4a744b17210f52b61": {
      "model_module": "@jupyter-widgets/controls",
      "model_module_version": "1.5.0",
      "model_name": "HTMLModel",
      "state": {
       "_dom_classes": [],
       "_model_module": "@jupyter-widgets/controls",
       "_model_module_version": "1.5.0",
       "_model_name": "HTMLModel",
       "_view_count": null,
       "_view_module": "@jupyter-widgets/controls",
       "_view_module_version": "1.5.0",
       "_view_name": "HTMLView",
       "description": "",
       "description_tooltip": null,
       "layout": "IPY_MODEL_86332a0a9a1a48e2b1ccbfcd81c514d2",
       "placeholder": "​",
       "style": "IPY_MODEL_9aa6317ad7a24db0ac5481d77074acfd",
       "value": "100%"
      }
     },
     "2b000eda3e884a979afc526bd923d3e2": {
      "model_module": "@jupyter-widgets/base",
      "model_module_version": "1.2.0",
      "model_name": "LayoutModel",
      "state": {
       "_model_module": "@jupyter-widgets/base",
       "_model_module_version": "1.2.0",
       "_model_name": "LayoutModel",
       "_view_count": null,
       "_view_module": "@jupyter-widgets/base",
       "_view_module_version": "1.2.0",
       "_view_name": "LayoutView",
       "align_content": null,
       "align_items": null,
       "align_self": null,
       "border": null,
       "bottom": null,
       "display": null,
       "flex": null,
       "flex_flow": null,
       "grid_area": null,
       "grid_auto_columns": null,
       "grid_auto_flow": null,
       "grid_auto_rows": null,
       "grid_column": null,
       "grid_gap": null,
       "grid_row": null,
       "grid_template_areas": null,
       "grid_template_columns": null,
       "grid_template_rows": null,
       "height": null,
       "justify_content": null,
       "justify_items": null,
       "left": null,
       "margin": null,
       "max_height": null,
       "max_width": null,
       "min_height": null,
       "min_width": null,
       "object_fit": null,
       "object_position": null,
       "order": null,
       "overflow": null,
       "overflow_x": null,
       "overflow_y": null,
       "padding": null,
       "right": null,
       "top": null,
       "visibility": null,
       "width": null
      }
     },
     "2bf10ccd9c4b43ea8c52c43f5f8442fd": {
      "model_module": "@jupyter-widgets/controls",
      "model_module_version": "1.5.0",
      "model_name": "HTMLModel",
      "state": {
       "_dom_classes": [],
       "_model_module": "@jupyter-widgets/controls",
       "_model_module_version": "1.5.0",
       "_model_name": "HTMLModel",
       "_view_count": null,
       "_view_module": "@jupyter-widgets/controls",
       "_view_module_version": "1.5.0",
       "_view_name": "HTMLView",
       "description": "",
       "description_tooltip": null,
       "layout": "IPY_MODEL_0b353d18ae5849bd969592fe24af8bed",
       "placeholder": "​",
       "style": "IPY_MODEL_060d75ac2649406db7190e16f40c6ec1",
       "value": "Epoch 9: 100%"
      }
     },
     "40718090cbab4c52a85f9cc4c573565f": {
      "model_module": "@jupyter-widgets/controls",
      "model_module_version": "1.5.0",
      "model_name": "ProgressStyleModel",
      "state": {
       "_model_module": "@jupyter-widgets/controls",
       "_model_module_version": "1.5.0",
       "_model_name": "ProgressStyleModel",
       "_view_count": null,
       "_view_module": "@jupyter-widgets/base",
       "_view_module_version": "1.2.0",
       "_view_name": "StyleView",
       "bar_color": null,
       "description_width": ""
      }
     },
     "43516e2560814494ab91257918fe23cf": {
      "model_module": "@jupyter-widgets/controls",
      "model_module_version": "1.5.0",
      "model_name": "ProgressStyleModel",
      "state": {
       "_model_module": "@jupyter-widgets/controls",
       "_model_module_version": "1.5.0",
       "_model_name": "ProgressStyleModel",
       "_view_count": null,
       "_view_module": "@jupyter-widgets/base",
       "_view_module_version": "1.2.0",
       "_view_name": "StyleView",
       "bar_color": null,
       "description_width": ""
      }
     },
     "4842e501ce1a4fac9390a13df530ce18": {
      "model_module": "@jupyter-widgets/controls",
      "model_module_version": "1.5.0",
      "model_name": "DescriptionStyleModel",
      "state": {
       "_model_module": "@jupyter-widgets/controls",
       "_model_module_version": "1.5.0",
       "_model_name": "DescriptionStyleModel",
       "_view_count": null,
       "_view_module": "@jupyter-widgets/base",
       "_view_module_version": "1.2.0",
       "_view_name": "StyleView",
       "description_width": ""
      }
     },
     "53c07099d07f4c77a3708bcf14baa535": {
      "model_module": "@jupyter-widgets/controls",
      "model_module_version": "1.5.0",
      "model_name": "FloatProgressModel",
      "state": {
       "_dom_classes": [],
       "_model_module": "@jupyter-widgets/controls",
       "_model_module_version": "1.5.0",
       "_model_name": "FloatProgressModel",
       "_view_count": null,
       "_view_module": "@jupyter-widgets/controls",
       "_view_module_version": "1.5.0",
       "_view_name": "ProgressView",
       "bar_style": "success",
       "description": "",
       "description_tooltip": null,
       "layout": "IPY_MODEL_d20c81a6f3a044c9807bc13c672d3d27",
       "max": 1580.0,
       "min": 0.0,
       "orientation": "horizontal",
       "style": "IPY_MODEL_61fdcef52046493ca1691c968d7cc4e4",
       "value": 1580.0
      }
     },
     "61fdcef52046493ca1691c968d7cc4e4": {
      "model_module": "@jupyter-widgets/controls",
      "model_module_version": "1.5.0",
      "model_name": "ProgressStyleModel",
      "state": {
       "_model_module": "@jupyter-widgets/controls",
       "_model_module_version": "1.5.0",
       "_model_name": "ProgressStyleModel",
       "_view_count": null,
       "_view_module": "@jupyter-widgets/base",
       "_view_module_version": "1.2.0",
       "_view_name": "StyleView",
       "bar_color": null,
       "description_width": ""
      }
     },
     "6a630785581d4b528f2ea34dd32e2814": {
      "model_module": "@jupyter-widgets/controls",
      "model_module_version": "1.5.0",
      "model_name": "HBoxModel",
      "state": {
       "_dom_classes": [],
       "_model_module": "@jupyter-widgets/controls",
       "_model_module_version": "1.5.0",
       "_model_name": "HBoxModel",
       "_view_count": null,
       "_view_module": "@jupyter-widgets/controls",
       "_view_module_version": "1.5.0",
       "_view_name": "HBoxView",
       "box_style": "",
       "children": [
        "IPY_MODEL_2bf10ccd9c4b43ea8c52c43f5f8442fd",
        "IPY_MODEL_f8e92098f1214428aac57e7e4f992397",
        "IPY_MODEL_8684a1f7d1064d2b84684a7cbbd3b6aa"
       ],
       "layout": "IPY_MODEL_15a766e30f8442dfa4a69bfcf2066cd1"
      }
     },
     "86332a0a9a1a48e2b1ccbfcd81c514d2": {
      "model_module": "@jupyter-widgets/base",
      "model_module_version": "1.2.0",
      "model_name": "LayoutModel",
      "state": {
       "_model_module": "@jupyter-widgets/base",
       "_model_module_version": "1.2.0",
       "_model_name": "LayoutModel",
       "_view_count": null,
       "_view_module": "@jupyter-widgets/base",
       "_view_module_version": "1.2.0",
       "_view_name": "LayoutView",
       "align_content": null,
       "align_items": null,
       "align_self": null,
       "border": null,
       "bottom": null,
       "display": null,
       "flex": null,
       "flex_flow": null,
       "grid_area": null,
       "grid_auto_columns": null,
       "grid_auto_flow": null,
       "grid_auto_rows": null,
       "grid_column": null,
       "grid_gap": null,
       "grid_row": null,
       "grid_template_areas": null,
       "grid_template_columns": null,
       "grid_template_rows": null,
       "height": null,
       "justify_content": null,
       "justify_items": null,
       "left": null,
       "margin": null,
       "max_height": null,
       "max_width": null,
       "min_height": null,
       "min_width": null,
       "object_fit": null,
       "object_position": null,
       "order": null,
       "overflow": null,
       "overflow_x": null,
       "overflow_y": null,
       "padding": null,
       "right": null,
       "top": null,
       "visibility": null,
       "width": null
      }
     },
     "8684a1f7d1064d2b84684a7cbbd3b6aa": {
      "model_module": "@jupyter-widgets/controls",
      "model_module_version": "1.5.0",
      "model_name": "HTMLModel",
      "state": {
       "_dom_classes": [],
       "_model_module": "@jupyter-widgets/controls",
       "_model_module_version": "1.5.0",
       "_model_name": "HTMLModel",
       "_view_count": null,
       "_view_module": "@jupyter-widgets/controls",
       "_view_module_version": "1.5.0",
       "_view_name": "HTMLView",
       "description": "",
       "description_tooltip": null,
       "layout": "IPY_MODEL_1d2ea6f376ae44cbbcde3163b0cf509a",
       "placeholder": "​",
       "style": "IPY_MODEL_ad80097da97a4311bd8644f367efc6aa",
       "value": " 5067/5067 [43:58&lt;00:00,  1.92it/s, loss=0.0472, v_num=0]"
      }
     },
     "8da1f85d7f8042668d2261a7cc0bb2b4": {
      "model_module": "@jupyter-widgets/base",
      "model_module_version": "1.2.0",
      "model_name": "LayoutModel",
      "state": {
       "_model_module": "@jupyter-widgets/base",
       "_model_module_version": "1.2.0",
       "_model_name": "LayoutModel",
       "_view_count": null,
       "_view_module": "@jupyter-widgets/base",
       "_view_module_version": "1.2.0",
       "_view_name": "LayoutView",
       "align_content": null,
       "align_items": null,
       "align_self": null,
       "border": null,
       "bottom": null,
       "display": "inline-flex",
       "flex": null,
       "flex_flow": "row wrap",
       "grid_area": null,
       "grid_auto_columns": null,
       "grid_auto_flow": null,
       "grid_auto_rows": null,
       "grid_column": null,
       "grid_gap": null,
       "grid_row": null,
       "grid_template_areas": null,
       "grid_template_columns": null,
       "grid_template_rows": null,
       "height": null,
       "justify_content": null,
       "justify_items": null,
       "left": null,
       "margin": null,
       "max_height": null,
       "max_width": null,
       "min_height": null,
       "min_width": null,
       "object_fit": null,
       "object_position": null,
       "order": null,
       "overflow": null,
       "overflow_x": null,
       "overflow_y": null,
       "padding": null,
       "right": null,
       "top": null,
       "visibility": null,
       "width": "100%"
      }
     },
     "9aa6317ad7a24db0ac5481d77074acfd": {
      "model_module": "@jupyter-widgets/controls",
      "model_module_version": "1.5.0",
      "model_name": "DescriptionStyleModel",
      "state": {
       "_model_module": "@jupyter-widgets/controls",
       "_model_module_version": "1.5.0",
       "_model_name": "DescriptionStyleModel",
       "_view_count": null,
       "_view_module": "@jupyter-widgets/base",
       "_view_module_version": "1.2.0",
       "_view_name": "StyleView",
       "description_width": ""
      }
     },
     "a249a4c488aa4659a7a8e966d9b2c8f9": {
      "model_module": "@jupyter-widgets/base",
      "model_module_version": "1.2.0",
      "model_name": "LayoutModel",
      "state": {
       "_model_module": "@jupyter-widgets/base",
       "_model_module_version": "1.2.0",
       "_model_name": "LayoutModel",
       "_view_count": null,
       "_view_module": "@jupyter-widgets/base",
       "_view_module_version": "1.2.0",
       "_view_name": "LayoutView",
       "align_content": null,
       "align_items": null,
       "align_self": null,
       "border": null,
       "bottom": null,
       "display": null,
       "flex": null,
       "flex_flow": null,
       "grid_area": null,
       "grid_auto_columns": null,
       "grid_auto_flow": null,
       "grid_auto_rows": null,
       "grid_column": null,
       "grid_gap": null,
       "grid_row": null,
       "grid_template_areas": null,
       "grid_template_columns": null,
       "grid_template_rows": null,
       "height": null,
       "justify_content": null,
       "justify_items": null,
       "left": null,
       "margin": null,
       "max_height": null,
       "max_width": null,
       "min_height": null,
       "min_width": null,
       "object_fit": null,
       "object_position": null,
       "order": null,
       "overflow": null,
       "overflow_x": null,
       "overflow_y": null,
       "padding": null,
       "right": null,
       "top": null,
       "visibility": null,
       "width": null
      }
     },
     "aa884e21983a490dbd5b23609b43253b": {
      "model_module": "@jupyter-widgets/base",
      "model_module_version": "1.2.0",
      "model_name": "LayoutModel",
      "state": {
       "_model_module": "@jupyter-widgets/base",
       "_model_module_version": "1.2.0",
       "_model_name": "LayoutModel",
       "_view_count": null,
       "_view_module": "@jupyter-widgets/base",
       "_view_module_version": "1.2.0",
       "_view_name": "LayoutView",
       "align_content": null,
       "align_items": null,
       "align_self": null,
       "border": null,
       "bottom": null,
       "display": null,
       "flex": null,
       "flex_flow": null,
       "grid_area": null,
       "grid_auto_columns": null,
       "grid_auto_flow": null,
       "grid_auto_rows": null,
       "grid_column": null,
       "grid_gap": null,
       "grid_row": null,
       "grid_template_areas": null,
       "grid_template_columns": null,
       "grid_template_rows": null,
       "height": null,
       "justify_content": null,
       "justify_items": null,
       "left": null,
       "margin": null,
       "max_height": null,
       "max_width": null,
       "min_height": null,
       "min_width": null,
       "object_fit": null,
       "object_position": null,
       "order": null,
       "overflow": null,
       "overflow_x": null,
       "overflow_y": null,
       "padding": null,
       "right": null,
       "top": null,
       "visibility": null,
       "width": null
      }
     },
     "ad80097da97a4311bd8644f367efc6aa": {
      "model_module": "@jupyter-widgets/controls",
      "model_module_version": "1.5.0",
      "model_name": "DescriptionStyleModel",
      "state": {
       "_model_module": "@jupyter-widgets/controls",
       "_model_module_version": "1.5.0",
       "_model_name": "DescriptionStyleModel",
       "_view_count": null,
       "_view_module": "@jupyter-widgets/base",
       "_view_module_version": "1.2.0",
       "_view_name": "StyleView",
       "description_width": ""
      }
     },
     "d20c81a6f3a044c9807bc13c672d3d27": {
      "model_module": "@jupyter-widgets/base",
      "model_module_version": "1.2.0",
      "model_name": "LayoutModel",
      "state": {
       "_model_module": "@jupyter-widgets/base",
       "_model_module_version": "1.2.0",
       "_model_name": "LayoutModel",
       "_view_count": null,
       "_view_module": "@jupyter-widgets/base",
       "_view_module_version": "1.2.0",
       "_view_name": "LayoutView",
       "align_content": null,
       "align_items": null,
       "align_self": null,
       "border": null,
       "bottom": null,
       "display": null,
       "flex": "2",
       "flex_flow": null,
       "grid_area": null,
       "grid_auto_columns": null,
       "grid_auto_flow": null,
       "grid_auto_rows": null,
       "grid_column": null,
       "grid_gap": null,
       "grid_row": null,
       "grid_template_areas": null,
       "grid_template_columns": null,
       "grid_template_rows": null,
       "height": null,
       "justify_content": null,
       "justify_items": null,
       "left": null,
       "margin": null,
       "max_height": null,
       "max_width": null,
       "min_height": null,
       "min_width": null,
       "object_fit": null,
       "object_position": null,
       "order": null,
       "overflow": null,
       "overflow_x": null,
       "overflow_y": null,
       "padding": null,
       "right": null,
       "top": null,
       "visibility": null,
       "width": null
      }
     },
     "d7001f318c5643c1a0e18b5620bdc94b": {
      "model_module": "@jupyter-widgets/base",
      "model_module_version": "1.2.0",
      "model_name": "LayoutModel",
      "state": {
       "_model_module": "@jupyter-widgets/base",
       "_model_module_version": "1.2.0",
       "_model_name": "LayoutModel",
       "_view_count": null,
       "_view_module": "@jupyter-widgets/base",
       "_view_module_version": "1.2.0",
       "_view_name": "LayoutView",
       "align_content": null,
       "align_items": null,
       "align_self": null,
       "border": null,
       "bottom": null,
       "display": null,
       "flex": "2",
       "flex_flow": null,
       "grid_area": null,
       "grid_auto_columns": null,
       "grid_auto_flow": null,
       "grid_auto_rows": null,
       "grid_column": null,
       "grid_gap": null,
       "grid_row": null,
       "grid_template_areas": null,
       "grid_template_columns": null,
       "grid_template_rows": null,
       "height": null,
       "justify_content": null,
       "justify_items": null,
       "left": null,
       "margin": null,
       "max_height": null,
       "max_width": null,
       "min_height": null,
       "min_width": null,
       "object_fit": null,
       "object_position": null,
       "order": null,
       "overflow": null,
       "overflow_x": null,
       "overflow_y": null,
       "padding": null,
       "right": null,
       "top": null,
       "visibility": null,
       "width": null
      }
     },
     "ee5e64be41984019a370760f6a2c04ab": {
      "model_module": "@jupyter-widgets/controls",
      "model_module_version": "1.5.0",
      "model_name": "HBoxModel",
      "state": {
       "_dom_classes": [],
       "_model_module": "@jupyter-widgets/controls",
       "_model_module_version": "1.5.0",
       "_model_name": "HBoxModel",
       "_view_count": null,
       "_view_module": "@jupyter-widgets/controls",
       "_view_module_version": "1.5.0",
       "_view_name": "HBoxView",
       "box_style": "",
       "children": [
        "IPY_MODEL_0a66905b1de44a3487c6c6f87522b24f",
        "IPY_MODEL_53c07099d07f4c77a3708bcf14baa535",
        "IPY_MODEL_feb9a4088c2247daa1fa938ab8f65851"
       ],
       "layout": "IPY_MODEL_8da1f85d7f8042668d2261a7cc0bb2b4"
      }
     },
     "ef4072ff3a964915a7e217f4bd591379": {
      "model_module": "@jupyter-widgets/controls",
      "model_module_version": "1.5.0",
      "model_name": "DescriptionStyleModel",
      "state": {
       "_model_module": "@jupyter-widgets/controls",
       "_model_module_version": "1.5.0",
       "_model_name": "DescriptionStyleModel",
       "_view_count": null,
       "_view_module": "@jupyter-widgets/base",
       "_view_module_version": "1.2.0",
       "_view_name": "StyleView",
       "description_width": ""
      }
     },
     "f8e92098f1214428aac57e7e4f992397": {
      "model_module": "@jupyter-widgets/controls",
      "model_module_version": "1.5.0",
      "model_name": "FloatProgressModel",
      "state": {
       "_dom_classes": [],
       "_model_module": "@jupyter-widgets/controls",
       "_model_module_version": "1.5.0",
       "_model_name": "FloatProgressModel",
       "_view_count": null,
       "_view_module": "@jupyter-widgets/controls",
       "_view_module_version": "1.5.0",
       "_view_name": "ProgressView",
       "bar_style": "success",
       "description": "",
       "description_tooltip": null,
       "layout": "IPY_MODEL_d7001f318c5643c1a0e18b5620bdc94b",
       "max": 5067.0,
       "min": 0.0,
       "orientation": "horizontal",
       "style": "IPY_MODEL_40718090cbab4c52a85f9cc4c573565f",
       "value": 5067.0
      }
     },
     "feb9a4088c2247daa1fa938ab8f65851": {
      "model_module": "@jupyter-widgets/controls",
      "model_module_version": "1.5.0",
      "model_name": "HTMLModel",
      "state": {
       "_dom_classes": [],
       "_model_module": "@jupyter-widgets/controls",
       "_model_module_version": "1.5.0",
       "_model_name": "HTMLModel",
       "_view_count": null,
       "_view_module": "@jupyter-widgets/controls",
       "_view_module_version": "1.5.0",
       "_view_name": "HTMLView",
       "description": "",
       "description_tooltip": null,
       "layout": "IPY_MODEL_01d4f35448fb41248325bf6bab6eeec6",
       "placeholder": "​",
       "style": "IPY_MODEL_4842e501ce1a4fac9390a13df530ce18",
       "value": " 1580/1580 [09:11&lt;00:00,  2.86it/s]"
      }
     },
     "ff1b93b468f447ef8e3150339d3f5c79": {
      "model_module": "@jupyter-widgets/controls",
      "model_module_version": "1.5.0",
      "model_name": "FloatProgressModel",
      "state": {
       "_dom_classes": [],
       "_model_module": "@jupyter-widgets/controls",
       "_model_module_version": "1.5.0",
       "_model_name": "FloatProgressModel",
       "_view_count": null,
       "_view_module": "@jupyter-widgets/controls",
       "_view_module_version": "1.5.0",
       "_view_name": "ProgressView",
       "bar_style": "success",
       "description": "",
       "description_tooltip": null,
       "layout": "IPY_MODEL_aa884e21983a490dbd5b23609b43253b",
       "max": 178814045.0,
       "min": 0.0,
       "orientation": "horizontal",
       "style": "IPY_MODEL_43516e2560814494ab91257918fe23cf",
       "value": 178814045.0
      }
     }
    },
    "version_major": 2,
    "version_minor": 0
   }
  }
 },
 "nbformat": 4,
 "nbformat_minor": 5
}
